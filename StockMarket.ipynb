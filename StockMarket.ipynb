{
  "nbformat": 4,
  "nbformat_minor": 0,
  "metadata": {
    "colab": {
      "provenance": [],
      "authorship_tag": "ABX9TyOjXidctasSfz1SLhY5ubDv",
      "include_colab_link": true
    },
    "kernelspec": {
      "name": "python3",
      "display_name": "Python 3"
    },
    "language_info": {
      "name": "python"
    }
  },
  "cells": [
    {
      "cell_type": "markdown",
      "metadata": {
        "id": "view-in-github",
        "colab_type": "text"
      },
      "source": [
        "<a href=\"https://colab.research.google.com/github/chaitanyasinghnegi/SQCC-Recruitment-Task/blob/main/StockMarket.ipynb\" target=\"_parent\"><img src=\"https://colab.research.google.com/assets/colab-badge.svg\" alt=\"Open In Colab\"/></a>"
      ]
    },
    {
      "cell_type": "markdown",
      "source": [
        "# Importing Necessary Libraries\n",
        "\n",
        "- Pandas\n",
        "- Numpy\n",
        "- SKLearn\n"
      ],
      "metadata": {
        "id": "nRlElScUT32O"
      }
    },
    {
      "cell_type": "code",
      "source": [
        "import pandas as pd\n",
        "import numpy as np\n",
        "from sklearn import *\n",
        "import matplotlib.pyplot as plt"
      ],
      "metadata": {
        "id": "n_q1Q3lZdr5r"
      },
      "execution_count": 295,
      "outputs": []
    },
    {
      "cell_type": "markdown",
      "source": [
        "Read csv"
      ],
      "metadata": {
        "id": "v6tQmyCd5SQZ"
      }
    },
    {
      "cell_type": "code",
      "execution_count": 296,
      "metadata": {
        "colab": {
          "base_uri": "https://localhost:8080/",
          "height": 310
        },
        "id": "ZGzg2YCN7tpJ",
        "outputId": "3b21d37f-9763-4add-8173-6ed14c935b3c"
      },
      "outputs": [
        {
          "output_type": "execute_result",
          "data": {
            "text/plain": [
              "            Company Name      Symbol            Industry Series      Open  \\\n",
              "0          3M India Ltd.     3MINDIA         Diversified     EQ  21950.00   \n",
              "1       Aarti Drugs Ltd.  AARTIDRUGS          Healthcare     EQ    400.50   \n",
              "2  Aavas Financiers Ltd.       AAVAS  Financial Services     EQ   1997.10   \n",
              "3         ABB India Ltd.         ABB       Capital Goods     EQ   2260.35   \n",
              "4      Abbott India Ltd.  ABBOTINDIA          Healthcare     EQ  18700.40   \n",
              "\n",
              "       High       Low  Previous Close  Last Traded Price   Change  \\\n",
              "0  21999.00  21126.05        21854.05           21575.00  -279.05   \n",
              "1    401.80    394.10          403.85             400.00    -3.85   \n",
              "2   2004.05   1894.50         2015.45            1943.15   -72.30   \n",
              "3   2311.50   2260.35         2300.90            2280.00   -20.90   \n",
              "4  19200.00  18605.00        18760.40           19199.80   439.40   \n",
              "\n",
              "  Percentage Change  Share Volume  Value (Indian Rupee)  52 Week High  \\\n",
              "0             -1.28          4159          8.965357e+07      27800.00   \n",
              "1             -0.95         31782          1.262731e+07        749.75   \n",
              "2             -3.59        150704          2.907728e+08       3340.00   \n",
              "3             -0.91         97053          2.210935e+08       2487.85   \n",
              "4              2.34         12396          2.346770e+08      23934.45   \n",
              "\n",
              "   52 Week Low 365 Day Percentage Change 30 Day Percentage Change  \n",
              "0     17273.00                    -10.18                     8.22  \n",
              "1       378.00                    -42.92                    -5.10  \n",
              "2      1815.00                    -25.69                    -9.39  \n",
              "3      1618.05                     27.25                    -5.21  \n",
              "4     15514.00                     11.61                     5.84  "
            ],
            "text/html": [
              "\n",
              "  <div id=\"df-2ed2838d-0665-40a6-8f07-17f03abd43f1\" class=\"colab-df-container\">\n",
              "    <div>\n",
              "<style scoped>\n",
              "    .dataframe tbody tr th:only-of-type {\n",
              "        vertical-align: middle;\n",
              "    }\n",
              "\n",
              "    .dataframe tbody tr th {\n",
              "        vertical-align: top;\n",
              "    }\n",
              "\n",
              "    .dataframe thead th {\n",
              "        text-align: right;\n",
              "    }\n",
              "</style>\n",
              "<table border=\"1\" class=\"dataframe\">\n",
              "  <thead>\n",
              "    <tr style=\"text-align: right;\">\n",
              "      <th></th>\n",
              "      <th>Company Name</th>\n",
              "      <th>Symbol</th>\n",
              "      <th>Industry</th>\n",
              "      <th>Series</th>\n",
              "      <th>Open</th>\n",
              "      <th>High</th>\n",
              "      <th>Low</th>\n",
              "      <th>Previous Close</th>\n",
              "      <th>Last Traded Price</th>\n",
              "      <th>Change</th>\n",
              "      <th>Percentage Change</th>\n",
              "      <th>Share Volume</th>\n",
              "      <th>Value (Indian Rupee)</th>\n",
              "      <th>52 Week High</th>\n",
              "      <th>52 Week Low</th>\n",
              "      <th>365 Day Percentage Change</th>\n",
              "      <th>30 Day Percentage Change</th>\n",
              "    </tr>\n",
              "  </thead>\n",
              "  <tbody>\n",
              "    <tr>\n",
              "      <th>0</th>\n",
              "      <td>3M India Ltd.</td>\n",
              "      <td>3MINDIA</td>\n",
              "      <td>Diversified</td>\n",
              "      <td>EQ</td>\n",
              "      <td>21950.00</td>\n",
              "      <td>21999.00</td>\n",
              "      <td>21126.05</td>\n",
              "      <td>21854.05</td>\n",
              "      <td>21575.00</td>\n",
              "      <td>-279.05</td>\n",
              "      <td>-1.28</td>\n",
              "      <td>4159</td>\n",
              "      <td>8.965357e+07</td>\n",
              "      <td>27800.00</td>\n",
              "      <td>17273.00</td>\n",
              "      <td>-10.18</td>\n",
              "      <td>8.22</td>\n",
              "    </tr>\n",
              "    <tr>\n",
              "      <th>1</th>\n",
              "      <td>Aarti Drugs Ltd.</td>\n",
              "      <td>AARTIDRUGS</td>\n",
              "      <td>Healthcare</td>\n",
              "      <td>EQ</td>\n",
              "      <td>400.50</td>\n",
              "      <td>401.80</td>\n",
              "      <td>394.10</td>\n",
              "      <td>403.85</td>\n",
              "      <td>400.00</td>\n",
              "      <td>-3.85</td>\n",
              "      <td>-0.95</td>\n",
              "      <td>31782</td>\n",
              "      <td>1.262731e+07</td>\n",
              "      <td>749.75</td>\n",
              "      <td>378.00</td>\n",
              "      <td>-42.92</td>\n",
              "      <td>-5.10</td>\n",
              "    </tr>\n",
              "    <tr>\n",
              "      <th>2</th>\n",
              "      <td>Aavas Financiers Ltd.</td>\n",
              "      <td>AAVAS</td>\n",
              "      <td>Financial Services</td>\n",
              "      <td>EQ</td>\n",
              "      <td>1997.10</td>\n",
              "      <td>2004.05</td>\n",
              "      <td>1894.50</td>\n",
              "      <td>2015.45</td>\n",
              "      <td>1943.15</td>\n",
              "      <td>-72.30</td>\n",
              "      <td>-3.59</td>\n",
              "      <td>150704</td>\n",
              "      <td>2.907728e+08</td>\n",
              "      <td>3340.00</td>\n",
              "      <td>1815.00</td>\n",
              "      <td>-25.69</td>\n",
              "      <td>-9.39</td>\n",
              "    </tr>\n",
              "    <tr>\n",
              "      <th>3</th>\n",
              "      <td>ABB India Ltd.</td>\n",
              "      <td>ABB</td>\n",
              "      <td>Capital Goods</td>\n",
              "      <td>EQ</td>\n",
              "      <td>2260.35</td>\n",
              "      <td>2311.50</td>\n",
              "      <td>2260.35</td>\n",
              "      <td>2300.90</td>\n",
              "      <td>2280.00</td>\n",
              "      <td>-20.90</td>\n",
              "      <td>-0.91</td>\n",
              "      <td>97053</td>\n",
              "      <td>2.210935e+08</td>\n",
              "      <td>2487.85</td>\n",
              "      <td>1618.05</td>\n",
              "      <td>27.25</td>\n",
              "      <td>-5.21</td>\n",
              "    </tr>\n",
              "    <tr>\n",
              "      <th>4</th>\n",
              "      <td>Abbott India Ltd.</td>\n",
              "      <td>ABBOTINDIA</td>\n",
              "      <td>Healthcare</td>\n",
              "      <td>EQ</td>\n",
              "      <td>18700.40</td>\n",
              "      <td>19200.00</td>\n",
              "      <td>18605.00</td>\n",
              "      <td>18760.40</td>\n",
              "      <td>19199.80</td>\n",
              "      <td>439.40</td>\n",
              "      <td>2.34</td>\n",
              "      <td>12396</td>\n",
              "      <td>2.346770e+08</td>\n",
              "      <td>23934.45</td>\n",
              "      <td>15514.00</td>\n",
              "      <td>11.61</td>\n",
              "      <td>5.84</td>\n",
              "    </tr>\n",
              "  </tbody>\n",
              "</table>\n",
              "</div>\n",
              "    <div class=\"colab-df-buttons\">\n",
              "\n",
              "  <div class=\"colab-df-container\">\n",
              "    <button class=\"colab-df-convert\" onclick=\"convertToInteractive('df-2ed2838d-0665-40a6-8f07-17f03abd43f1')\"\n",
              "            title=\"Convert this dataframe to an interactive table.\"\n",
              "            style=\"display:none;\">\n",
              "\n",
              "  <svg xmlns=\"http://www.w3.org/2000/svg\" height=\"24px\" viewBox=\"0 -960 960 960\">\n",
              "    <path d=\"M120-120v-720h720v720H120Zm60-500h600v-160H180v160Zm220 220h160v-160H400v160Zm0 220h160v-160H400v160ZM180-400h160v-160H180v160Zm440 0h160v-160H620v160ZM180-180h160v-160H180v160Zm440 0h160v-160H620v160Z\"/>\n",
              "  </svg>\n",
              "    </button>\n",
              "\n",
              "  <style>\n",
              "    .colab-df-container {\n",
              "      display:flex;\n",
              "      gap: 12px;\n",
              "    }\n",
              "\n",
              "    .colab-df-convert {\n",
              "      background-color: #E8F0FE;\n",
              "      border: none;\n",
              "      border-radius: 50%;\n",
              "      cursor: pointer;\n",
              "      display: none;\n",
              "      fill: #1967D2;\n",
              "      height: 32px;\n",
              "      padding: 0 0 0 0;\n",
              "      width: 32px;\n",
              "    }\n",
              "\n",
              "    .colab-df-convert:hover {\n",
              "      background-color: #E2EBFA;\n",
              "      box-shadow: 0px 1px 2px rgba(60, 64, 67, 0.3), 0px 1px 3px 1px rgba(60, 64, 67, 0.15);\n",
              "      fill: #174EA6;\n",
              "    }\n",
              "\n",
              "    .colab-df-buttons div {\n",
              "      margin-bottom: 4px;\n",
              "    }\n",
              "\n",
              "    [theme=dark] .colab-df-convert {\n",
              "      background-color: #3B4455;\n",
              "      fill: #D2E3FC;\n",
              "    }\n",
              "\n",
              "    [theme=dark] .colab-df-convert:hover {\n",
              "      background-color: #434B5C;\n",
              "      box-shadow: 0px 1px 3px 1px rgba(0, 0, 0, 0.15);\n",
              "      filter: drop-shadow(0px 1px 2px rgba(0, 0, 0, 0.3));\n",
              "      fill: #FFFFFF;\n",
              "    }\n",
              "  </style>\n",
              "\n",
              "    <script>\n",
              "      const buttonEl =\n",
              "        document.querySelector('#df-2ed2838d-0665-40a6-8f07-17f03abd43f1 button.colab-df-convert');\n",
              "      buttonEl.style.display =\n",
              "        google.colab.kernel.accessAllowed ? 'block' : 'none';\n",
              "\n",
              "      async function convertToInteractive(key) {\n",
              "        const element = document.querySelector('#df-2ed2838d-0665-40a6-8f07-17f03abd43f1');\n",
              "        const dataTable =\n",
              "          await google.colab.kernel.invokeFunction('convertToInteractive',\n",
              "                                                    [key], {});\n",
              "        if (!dataTable) return;\n",
              "\n",
              "        const docLinkHtml = 'Like what you see? Visit the ' +\n",
              "          '<a target=\"_blank\" href=https://colab.research.google.com/notebooks/data_table.ipynb>data table notebook</a>'\n",
              "          + ' to learn more about interactive tables.';\n",
              "        element.innerHTML = '';\n",
              "        dataTable['output_type'] = 'display_data';\n",
              "        await google.colab.output.renderOutput(dataTable, element);\n",
              "        const docLink = document.createElement('div');\n",
              "        docLink.innerHTML = docLinkHtml;\n",
              "        element.appendChild(docLink);\n",
              "      }\n",
              "    </script>\n",
              "  </div>\n",
              "\n",
              "\n",
              "<div id=\"df-2065541a-6fdf-4527-a24b-d9195ed40900\">\n",
              "  <button class=\"colab-df-quickchart\" onclick=\"quickchart('df-2065541a-6fdf-4527-a24b-d9195ed40900')\"\n",
              "            title=\"Suggest charts\"\n",
              "            style=\"display:none;\">\n",
              "\n",
              "<svg xmlns=\"http://www.w3.org/2000/svg\" height=\"24px\"viewBox=\"0 0 24 24\"\n",
              "     width=\"24px\">\n",
              "    <g>\n",
              "        <path d=\"M19 3H5c-1.1 0-2 .9-2 2v14c0 1.1.9 2 2 2h14c1.1 0 2-.9 2-2V5c0-1.1-.9-2-2-2zM9 17H7v-7h2v7zm4 0h-2V7h2v10zm4 0h-2v-4h2v4z\"/>\n",
              "    </g>\n",
              "</svg>\n",
              "  </button>\n",
              "\n",
              "<style>\n",
              "  .colab-df-quickchart {\n",
              "      --bg-color: #E8F0FE;\n",
              "      --fill-color: #1967D2;\n",
              "      --hover-bg-color: #E2EBFA;\n",
              "      --hover-fill-color: #174EA6;\n",
              "      --disabled-fill-color: #AAA;\n",
              "      --disabled-bg-color: #DDD;\n",
              "  }\n",
              "\n",
              "  [theme=dark] .colab-df-quickchart {\n",
              "      --bg-color: #3B4455;\n",
              "      --fill-color: #D2E3FC;\n",
              "      --hover-bg-color: #434B5C;\n",
              "      --hover-fill-color: #FFFFFF;\n",
              "      --disabled-bg-color: #3B4455;\n",
              "      --disabled-fill-color: #666;\n",
              "  }\n",
              "\n",
              "  .colab-df-quickchart {\n",
              "    background-color: var(--bg-color);\n",
              "    border: none;\n",
              "    border-radius: 50%;\n",
              "    cursor: pointer;\n",
              "    display: none;\n",
              "    fill: var(--fill-color);\n",
              "    height: 32px;\n",
              "    padding: 0;\n",
              "    width: 32px;\n",
              "  }\n",
              "\n",
              "  .colab-df-quickchart:hover {\n",
              "    background-color: var(--hover-bg-color);\n",
              "    box-shadow: 0 1px 2px rgba(60, 64, 67, 0.3), 0 1px 3px 1px rgba(60, 64, 67, 0.15);\n",
              "    fill: var(--button-hover-fill-color);\n",
              "  }\n",
              "\n",
              "  .colab-df-quickchart-complete:disabled,\n",
              "  .colab-df-quickchart-complete:disabled:hover {\n",
              "    background-color: var(--disabled-bg-color);\n",
              "    fill: var(--disabled-fill-color);\n",
              "    box-shadow: none;\n",
              "  }\n",
              "\n",
              "  .colab-df-spinner {\n",
              "    border: 2px solid var(--fill-color);\n",
              "    border-color: transparent;\n",
              "    border-bottom-color: var(--fill-color);\n",
              "    animation:\n",
              "      spin 1s steps(1) infinite;\n",
              "  }\n",
              "\n",
              "  @keyframes spin {\n",
              "    0% {\n",
              "      border-color: transparent;\n",
              "      border-bottom-color: var(--fill-color);\n",
              "      border-left-color: var(--fill-color);\n",
              "    }\n",
              "    20% {\n",
              "      border-color: transparent;\n",
              "      border-left-color: var(--fill-color);\n",
              "      border-top-color: var(--fill-color);\n",
              "    }\n",
              "    30% {\n",
              "      border-color: transparent;\n",
              "      border-left-color: var(--fill-color);\n",
              "      border-top-color: var(--fill-color);\n",
              "      border-right-color: var(--fill-color);\n",
              "    }\n",
              "    40% {\n",
              "      border-color: transparent;\n",
              "      border-right-color: var(--fill-color);\n",
              "      border-top-color: var(--fill-color);\n",
              "    }\n",
              "    60% {\n",
              "      border-color: transparent;\n",
              "      border-right-color: var(--fill-color);\n",
              "    }\n",
              "    80% {\n",
              "      border-color: transparent;\n",
              "      border-right-color: var(--fill-color);\n",
              "      border-bottom-color: var(--fill-color);\n",
              "    }\n",
              "    90% {\n",
              "      border-color: transparent;\n",
              "      border-bottom-color: var(--fill-color);\n",
              "    }\n",
              "  }\n",
              "</style>\n",
              "\n",
              "  <script>\n",
              "    async function quickchart(key) {\n",
              "      const quickchartButtonEl =\n",
              "        document.querySelector('#' + key + ' button');\n",
              "      quickchartButtonEl.disabled = true;  // To prevent multiple clicks.\n",
              "      quickchartButtonEl.classList.add('colab-df-spinner');\n",
              "      try {\n",
              "        const charts = await google.colab.kernel.invokeFunction(\n",
              "            'suggestCharts', [key], {});\n",
              "      } catch (error) {\n",
              "        console.error('Error during call to suggestCharts:', error);\n",
              "      }\n",
              "      quickchartButtonEl.classList.remove('colab-df-spinner');\n",
              "      quickchartButtonEl.classList.add('colab-df-quickchart-complete');\n",
              "    }\n",
              "    (() => {\n",
              "      let quickchartButtonEl =\n",
              "        document.querySelector('#df-2065541a-6fdf-4527-a24b-d9195ed40900 button');\n",
              "      quickchartButtonEl.style.display =\n",
              "        google.colab.kernel.accessAllowed ? 'block' : 'none';\n",
              "    })();\n",
              "  </script>\n",
              "</div>\n",
              "\n",
              "    </div>\n",
              "  </div>\n"
            ],
            "application/vnd.google.colaboratory.intrinsic+json": {
              "type": "dataframe",
              "variable_name": "data",
              "summary": "{\n  \"name\": \"data\",\n  \"rows\": 501,\n  \"fields\": [\n    {\n      \"column\": \"Company Name\",\n      \"properties\": {\n        \"dtype\": \"string\",\n        \"num_unique_values\": 501,\n        \"samples\": [\n          \"Hitachi Energy India Ltd.\",\n          \"Brigade Enterprises Ltd.\",\n          \"The Ramco Cements Ltd.\"\n        ],\n        \"semantic_type\": \"\",\n        \"description\": \"\"\n      }\n    },\n    {\n      \"column\": \"Symbol\",\n      \"properties\": {\n        \"dtype\": \"string\",\n        \"num_unique_values\": 501,\n        \"samples\": [\n          \"POWERINDIA\",\n          \"BRIGADE\",\n          \"RAMCOCEM\"\n        ],\n        \"semantic_type\": \"\",\n        \"description\": \"\"\n      }\n    },\n    {\n      \"column\": \"Industry\",\n      \"properties\": {\n        \"dtype\": \"category\",\n        \"num_unique_values\": 21,\n        \"samples\": [\n          \"Diversified\",\n          \"Realty\",\n          \"Consumer Durables\"\n        ],\n        \"semantic_type\": \"\",\n        \"description\": \"\"\n      }\n    },\n    {\n      \"column\": \"Series\",\n      \"properties\": {\n        \"dtype\": \"category\",\n        \"num_unique_values\": 2,\n        \"samples\": [\n          \"BE\",\n          \"EQ\"\n        ],\n        \"semantic_type\": \"\",\n        \"description\": \"\"\n      }\n    },\n    {\n      \"column\": \"Open\",\n      \"properties\": {\n        \"dtype\": \"number\",\n        \"std\": 4466.627116776684,\n        \"min\": 6.75,\n        \"max\": 70300.0,\n        \"num_unique_values\": 492,\n        \"samples\": [\n          181.65,\n          2727.0\n        ],\n        \"semantic_type\": \"\",\n        \"description\": \"\"\n      }\n    },\n    {\n      \"column\": \"High\",\n      \"properties\": {\n        \"dtype\": \"number\",\n        \"std\": 4576.377691763984,\n        \"min\": 6.95,\n        \"max\": 72500.0,\n        \"num_unique_values\": 495,\n        \"samples\": [\n          157.65,\n          447.45\n        ],\n        \"semantic_type\": \"\",\n        \"description\": \"\"\n      }\n    },\n    {\n      \"column\": \"Low\",\n      \"properties\": {\n        \"dtype\": \"number\",\n        \"std\": 4435.492331876176,\n        \"min\": 6.7,\n        \"max\": 70300.0,\n        \"num_unique_values\": 493,\n        \"samples\": [\n          37.65,\n          436.05\n        ],\n        \"semantic_type\": \"\",\n        \"description\": \"\"\n      }\n    },\n    {\n      \"column\": \"Previous Close\",\n      \"properties\": {\n        \"dtype\": \"number\",\n        \"std\": 4477.209376222824,\n        \"min\": 6.85,\n        \"max\": 70800.9,\n        \"num_unique_values\": 495,\n        \"samples\": [\n          156.35,\n          3466.4\n        ],\n        \"semantic_type\": \"\",\n        \"description\": \"\"\n      }\n    },\n    {\n      \"column\": \"Last Traded Price\",\n      \"properties\": {\n        \"dtype\": \"number\",\n        \"std\": 4532.004734024011,\n        \"min\": 6.8,\n        \"max\": 71900.0,\n        \"num_unique_values\": 493,\n        \"samples\": [\n          460.6,\n          443.5\n        ],\n        \"semantic_type\": \"\",\n        \"description\": \"\"\n      }\n    },\n    {\n      \"column\": \"Change\",\n      \"properties\": {\n        \"dtype\": \"string\",\n        \"num_unique_values\": 372,\n        \"samples\": [\n          \"-0.95\",\n          \"-1.40\"\n        ],\n        \"semantic_type\": \"\",\n        \"description\": \"\"\n      }\n    },\n    {\n      \"column\": \"Percentage Change\",\n      \"properties\": {\n        \"dtype\": \"string\",\n        \"num_unique_values\": 354,\n        \"samples\": [\n          \"-0.53\",\n          \"1.76\"\n        ],\n        \"semantic_type\": \"\",\n        \"description\": \"\"\n      }\n    },\n    {\n      \"column\": \"Share Volume\",\n      \"properties\": {\n        \"dtype\": \"number\",\n        \"std\": 9407020,\n        \"min\": 1507,\n        \"max\": 125788305,\n        \"num_unique_values\": 501,\n        \"samples\": [\n          17764,\n          140806\n        ],\n        \"semantic_type\": \"\",\n        \"description\": \"\"\n      }\n    },\n    {\n      \"column\": \"Value (Indian Rupee)\",\n      \"properties\": {\n        \"dtype\": \"number\",\n        \"std\": 4335973172.542536,\n        \"min\": 2587222.8,\n        \"max\": 92119871798.85,\n        \"num_unique_values\": 501,\n        \"samples\": [\n          55873997.4,\n          62332000.08\n        ],\n        \"semantic_type\": \"\",\n        \"description\": \"\"\n      }\n    },\n    {\n      \"column\": \"52 Week High\",\n      \"properties\": {\n        \"dtype\": \"number\",\n        \"std\": 5728.930152051845,\n        \"min\": 13.1,\n        \"max\": 87550.0,\n        \"num_unique_values\": 497,\n        \"samples\": [\n          2880.0,\n          554.7\n        ],\n        \"semantic_type\": \"\",\n        \"description\": \"\"\n      }\n    },\n    {\n      \"column\": \"52 Week Low\",\n      \"properties\": {\n        \"dtype\": \"number\",\n        \"std\": 3850.529645811958,\n        \"min\": 4.55,\n        \"max\": 63000.0,\n        \"num_unique_values\": 494,\n        \"samples\": [\n          16.3,\n          268.7\n        ],\n        \"semantic_type\": \"\",\n        \"description\": \"\"\n      }\n    },\n    {\n      \"column\": \"365 Day Percentage Change\",\n      \"properties\": {\n        \"dtype\": \"string\",\n        \"num_unique_values\": 441,\n        \"samples\": [\n          \"29.95\",\n          \"-12.61\"\n        ],\n        \"semantic_type\": \"\",\n        \"description\": \"\"\n      }\n    },\n    {\n      \"column\": \"30 Day Percentage Change\",\n      \"properties\": {\n        \"dtype\": \"string\",\n        \"num_unique_values\": 458,\n        \"samples\": [\n          \"-8.61\",\n          \"-1.40\"\n        ],\n        \"semantic_type\": \"\",\n        \"description\": \"\"\n      }\n    }\n  ]\n}"
            }
          },
          "metadata": {},
          "execution_count": 296
        }
      ],
      "source": [
        "data = pd.read_csv('./nifty_500.csv')\n",
        "data.head()"
      ]
    },
    {
      "cell_type": "code",
      "source": [
        "data.info()"
      ],
      "metadata": {
        "colab": {
          "base_uri": "https://localhost:8080/"
        },
        "id": "lSYyaOzxDGTW",
        "outputId": "44d809b7-d89c-4002-8f67-c1d6299fcfee"
      },
      "execution_count": 297,
      "outputs": [
        {
          "output_type": "stream",
          "name": "stdout",
          "text": [
            "<class 'pandas.core.frame.DataFrame'>\n",
            "RangeIndex: 501 entries, 0 to 500\n",
            "Data columns (total 17 columns):\n",
            " #   Column                     Non-Null Count  Dtype  \n",
            "---  ------                     --------------  -----  \n",
            " 0   Company Name               501 non-null    object \n",
            " 1   Symbol                     501 non-null    object \n",
            " 2   Industry                   501 non-null    object \n",
            " 3   Series                     501 non-null    object \n",
            " 4   Open                       501 non-null    float64\n",
            " 5   High                       501 non-null    float64\n",
            " 6   Low                        501 non-null    float64\n",
            " 7   Previous Close             501 non-null    float64\n",
            " 8   Last Traded Price          501 non-null    float64\n",
            " 9   Change                     501 non-null    object \n",
            " 10  Percentage Change          501 non-null    object \n",
            " 11  Share Volume               501 non-null    int64  \n",
            " 12  Value (Indian Rupee)       501 non-null    float64\n",
            " 13  52 Week High               501 non-null    float64\n",
            " 14  52 Week Low                501 non-null    float64\n",
            " 15  365 Day Percentage Change  501 non-null    object \n",
            " 16  30 Day Percentage Change   501 non-null    object \n",
            "dtypes: float64(8), int64(1), object(8)\n",
            "memory usage: 66.7+ KB\n"
          ]
        }
      ]
    },
    {
      "cell_type": "markdown",
      "source": [
        "# Data Preprocessing\n",
        "\n",
        "Multiple objects classes detected, type-casting to float.\n",
        "Replacing all '-' values with NaN for easier data population."
      ],
      "metadata": {
        "id": "9AF6JBLz5d6B"
      }
    },
    {
      "cell_type": "code",
      "source": [
        "data.replace('-',np.NaN,inplace=True)"
      ],
      "metadata": {
        "id": "j1EtxgYqLjar"
      },
      "execution_count": 298,
      "outputs": []
    },
    {
      "cell_type": "code",
      "source": [
        "data['Change'] = data['Change'].map(lambda x: float(str(x).replace(',', '')) if isinstance(x, str) else float(x))"
      ],
      "metadata": {
        "id": "alZ8w5SFJtcw"
      },
      "execution_count": 299,
      "outputs": []
    },
    {
      "cell_type": "code",
      "source": [
        "data['Percentage Change'] = data['Percentage Change'].map(lambda x: float(str(x).replace(',', '')) if isinstance(x, str) else float(x))\n"
      ],
      "metadata": {
        "id": "W_csi_ojKfJI"
      },
      "execution_count": 300,
      "outputs": []
    },
    {
      "cell_type": "code",
      "source": [
        "data['365 Day Percentage Change'] = data['365 Day Percentage Change'].map(lambda x: float(str(x).replace(',', '')) if isinstance(x, str) else float(x))\n"
      ],
      "metadata": {
        "id": "IOAuNZvIKfFc"
      },
      "execution_count": 301,
      "outputs": []
    },
    {
      "cell_type": "code",
      "source": [
        "data['30 Day Percentage Change'] = data['30 Day Percentage Change'].map(lambda x: float(str(x).replace(',', '')) if isinstance(x, str) else float(x))\n"
      ],
      "metadata": {
        "id": "jnUHh7tWKe9L"
      },
      "execution_count": 302,
      "outputs": []
    },
    {
      "cell_type": "code",
      "source": [
        "data.info()"
      ],
      "metadata": {
        "colab": {
          "base_uri": "https://localhost:8080/"
        },
        "id": "54mMK1TDKWWY",
        "outputId": "0c88bb59-d408-4109-b832-25da6117c0da"
      },
      "execution_count": 303,
      "outputs": [
        {
          "output_type": "stream",
          "name": "stdout",
          "text": [
            "<class 'pandas.core.frame.DataFrame'>\n",
            "RangeIndex: 501 entries, 0 to 500\n",
            "Data columns (total 17 columns):\n",
            " #   Column                     Non-Null Count  Dtype  \n",
            "---  ------                     --------------  -----  \n",
            " 0   Company Name               501 non-null    object \n",
            " 1   Symbol                     501 non-null    object \n",
            " 2   Industry                   501 non-null    object \n",
            " 3   Series                     501 non-null    object \n",
            " 4   Open                       501 non-null    float64\n",
            " 5   High                       501 non-null    float64\n",
            " 6   Low                        501 non-null    float64\n",
            " 7   Previous Close             501 non-null    float64\n",
            " 8   Last Traded Price          501 non-null    float64\n",
            " 9   Change                     498 non-null    float64\n",
            " 10  Percentage Change          498 non-null    float64\n",
            " 11  Share Volume               501 non-null    int64  \n",
            " 12  Value (Indian Rupee)       501 non-null    float64\n",
            " 13  52 Week High               501 non-null    float64\n",
            " 14  52 Week Low                501 non-null    float64\n",
            " 15  365 Day Percentage Change  457 non-null    float64\n",
            " 16  30 Day Percentage Change   498 non-null    float64\n",
            "dtypes: float64(12), int64(1), object(4)\n",
            "memory usage: 66.7+ KB\n"
          ]
        }
      ]
    },
    {
      "cell_type": "code",
      "source": [
        "data.isnull().sum()"
      ],
      "metadata": {
        "colab": {
          "base_uri": "https://localhost:8080/",
          "height": 617
        },
        "id": "4vLgQWRs8etg",
        "outputId": "b3e5b0cf-fb66-4212-d9b2-380c0a291cab"
      },
      "execution_count": 304,
      "outputs": [
        {
          "output_type": "execute_result",
          "data": {
            "text/plain": [
              "Company Name                  0\n",
              "Symbol                        0\n",
              "Industry                      0\n",
              "Series                        0\n",
              "Open                          0\n",
              "High                          0\n",
              "Low                           0\n",
              "Previous Close                0\n",
              "Last Traded Price             0\n",
              "Change                        3\n",
              "Percentage Change             3\n",
              "Share Volume                  0\n",
              "Value (Indian Rupee)          0\n",
              "52 Week High                  0\n",
              "52 Week Low                   0\n",
              "365 Day Percentage Change    44\n",
              "30 Day Percentage Change      3\n",
              "dtype: int64"
            ],
            "text/html": [
              "<div>\n",
              "<style scoped>\n",
              "    .dataframe tbody tr th:only-of-type {\n",
              "        vertical-align: middle;\n",
              "    }\n",
              "\n",
              "    .dataframe tbody tr th {\n",
              "        vertical-align: top;\n",
              "    }\n",
              "\n",
              "    .dataframe thead th {\n",
              "        text-align: right;\n",
              "    }\n",
              "</style>\n",
              "<table border=\"1\" class=\"dataframe\">\n",
              "  <thead>\n",
              "    <tr style=\"text-align: right;\">\n",
              "      <th></th>\n",
              "      <th>0</th>\n",
              "    </tr>\n",
              "  </thead>\n",
              "  <tbody>\n",
              "    <tr>\n",
              "      <th>Company Name</th>\n",
              "      <td>0</td>\n",
              "    </tr>\n",
              "    <tr>\n",
              "      <th>Symbol</th>\n",
              "      <td>0</td>\n",
              "    </tr>\n",
              "    <tr>\n",
              "      <th>Industry</th>\n",
              "      <td>0</td>\n",
              "    </tr>\n",
              "    <tr>\n",
              "      <th>Series</th>\n",
              "      <td>0</td>\n",
              "    </tr>\n",
              "    <tr>\n",
              "      <th>Open</th>\n",
              "      <td>0</td>\n",
              "    </tr>\n",
              "    <tr>\n",
              "      <th>High</th>\n",
              "      <td>0</td>\n",
              "    </tr>\n",
              "    <tr>\n",
              "      <th>Low</th>\n",
              "      <td>0</td>\n",
              "    </tr>\n",
              "    <tr>\n",
              "      <th>Previous Close</th>\n",
              "      <td>0</td>\n",
              "    </tr>\n",
              "    <tr>\n",
              "      <th>Last Traded Price</th>\n",
              "      <td>0</td>\n",
              "    </tr>\n",
              "    <tr>\n",
              "      <th>Change</th>\n",
              "      <td>3</td>\n",
              "    </tr>\n",
              "    <tr>\n",
              "      <th>Percentage Change</th>\n",
              "      <td>3</td>\n",
              "    </tr>\n",
              "    <tr>\n",
              "      <th>Share Volume</th>\n",
              "      <td>0</td>\n",
              "    </tr>\n",
              "    <tr>\n",
              "      <th>Value (Indian Rupee)</th>\n",
              "      <td>0</td>\n",
              "    </tr>\n",
              "    <tr>\n",
              "      <th>52 Week High</th>\n",
              "      <td>0</td>\n",
              "    </tr>\n",
              "    <tr>\n",
              "      <th>52 Week Low</th>\n",
              "      <td>0</td>\n",
              "    </tr>\n",
              "    <tr>\n",
              "      <th>365 Day Percentage Change</th>\n",
              "      <td>44</td>\n",
              "    </tr>\n",
              "    <tr>\n",
              "      <th>30 Day Percentage Change</th>\n",
              "      <td>3</td>\n",
              "    </tr>\n",
              "  </tbody>\n",
              "</table>\n",
              "</div><br><label><b>dtype:</b> int64</label>"
            ]
          },
          "metadata": {},
          "execution_count": 304
        }
      ]
    },
    {
      "cell_type": "markdown",
      "source": [
        "Populating NaN values with mean of column"
      ],
      "metadata": {
        "id": "hrUX9Tbt5yDH"
      }
    },
    {
      "cell_type": "code",
      "source": [
        "cols = [\"Change\",\"Percentage Change\",\"365 Day Percentage Change\",\"30 Day Percentage Change\"]\n",
        "for col in cols:\n",
        "  data[col].fillna(data[col].mean(),inplace=True)"
      ],
      "metadata": {
        "id": "46TeX-cQMYSc"
      },
      "execution_count": 305,
      "outputs": []
    },
    {
      "cell_type": "code",
      "source": [
        "data.isnull().sum()"
      ],
      "metadata": {
        "colab": {
          "base_uri": "https://localhost:8080/",
          "height": 617
        },
        "id": "CsqPH2lmMwPF",
        "outputId": "48241308-aa8f-487d-a5a1-85dba6e4a632"
      },
      "execution_count": 306,
      "outputs": [
        {
          "output_type": "execute_result",
          "data": {
            "text/plain": [
              "Company Name                 0\n",
              "Symbol                       0\n",
              "Industry                     0\n",
              "Series                       0\n",
              "Open                         0\n",
              "High                         0\n",
              "Low                          0\n",
              "Previous Close               0\n",
              "Last Traded Price            0\n",
              "Change                       0\n",
              "Percentage Change            0\n",
              "Share Volume                 0\n",
              "Value (Indian Rupee)         0\n",
              "52 Week High                 0\n",
              "52 Week Low                  0\n",
              "365 Day Percentage Change    0\n",
              "30 Day Percentage Change     0\n",
              "dtype: int64"
            ],
            "text/html": [
              "<div>\n",
              "<style scoped>\n",
              "    .dataframe tbody tr th:only-of-type {\n",
              "        vertical-align: middle;\n",
              "    }\n",
              "\n",
              "    .dataframe tbody tr th {\n",
              "        vertical-align: top;\n",
              "    }\n",
              "\n",
              "    .dataframe thead th {\n",
              "        text-align: right;\n",
              "    }\n",
              "</style>\n",
              "<table border=\"1\" class=\"dataframe\">\n",
              "  <thead>\n",
              "    <tr style=\"text-align: right;\">\n",
              "      <th></th>\n",
              "      <th>0</th>\n",
              "    </tr>\n",
              "  </thead>\n",
              "  <tbody>\n",
              "    <tr>\n",
              "      <th>Company Name</th>\n",
              "      <td>0</td>\n",
              "    </tr>\n",
              "    <tr>\n",
              "      <th>Symbol</th>\n",
              "      <td>0</td>\n",
              "    </tr>\n",
              "    <tr>\n",
              "      <th>Industry</th>\n",
              "      <td>0</td>\n",
              "    </tr>\n",
              "    <tr>\n",
              "      <th>Series</th>\n",
              "      <td>0</td>\n",
              "    </tr>\n",
              "    <tr>\n",
              "      <th>Open</th>\n",
              "      <td>0</td>\n",
              "    </tr>\n",
              "    <tr>\n",
              "      <th>High</th>\n",
              "      <td>0</td>\n",
              "    </tr>\n",
              "    <tr>\n",
              "      <th>Low</th>\n",
              "      <td>0</td>\n",
              "    </tr>\n",
              "    <tr>\n",
              "      <th>Previous Close</th>\n",
              "      <td>0</td>\n",
              "    </tr>\n",
              "    <tr>\n",
              "      <th>Last Traded Price</th>\n",
              "      <td>0</td>\n",
              "    </tr>\n",
              "    <tr>\n",
              "      <th>Change</th>\n",
              "      <td>0</td>\n",
              "    </tr>\n",
              "    <tr>\n",
              "      <th>Percentage Change</th>\n",
              "      <td>0</td>\n",
              "    </tr>\n",
              "    <tr>\n",
              "      <th>Share Volume</th>\n",
              "      <td>0</td>\n",
              "    </tr>\n",
              "    <tr>\n",
              "      <th>Value (Indian Rupee)</th>\n",
              "      <td>0</td>\n",
              "    </tr>\n",
              "    <tr>\n",
              "      <th>52 Week High</th>\n",
              "      <td>0</td>\n",
              "    </tr>\n",
              "    <tr>\n",
              "      <th>52 Week Low</th>\n",
              "      <td>0</td>\n",
              "    </tr>\n",
              "    <tr>\n",
              "      <th>365 Day Percentage Change</th>\n",
              "      <td>0</td>\n",
              "    </tr>\n",
              "    <tr>\n",
              "      <th>30 Day Percentage Change</th>\n",
              "      <td>0</td>\n",
              "    </tr>\n",
              "  </tbody>\n",
              "</table>\n",
              "</div><br><label><b>dtype:</b> int64</label>"
            ]
          },
          "metadata": {},
          "execution_count": 306
        }
      ]
    },
    {
      "cell_type": "markdown",
      "source": [
        "Encoding categorical values - Company Name, Symbol, Industry, Series"
      ],
      "metadata": {
        "id": "CS1mkYOn54Pb"
      }
    },
    {
      "cell_type": "code",
      "source": [
        "\n",
        "le = LabelEncoder()\n",
        "data['Company Name'] = le.fit_transform(data['Company Name'])\n",
        "data['Symbol'] = le.fit_transform(data['Symbol'])\n",
        "data['Industry'] = le.fit_transform(data['Industry'])\n",
        "data['Series'] = le.fit_transform(data['Series'])\n",
        "data.head()"
      ],
      "metadata": {
        "colab": {
          "base_uri": "https://localhost:8080/",
          "height": 223
        },
        "id": "uR8M8QAtCSit",
        "outputId": "a80add33-b0e6-4767-d07a-c5e7742f1665"
      },
      "execution_count": 307,
      "outputs": [
        {
          "output_type": "execute_result",
          "data": {
            "text/plain": [
              "   Company Name  Symbol  Industry  Series      Open      High       Low  \\\n",
              "0             0       0         7       1  21950.00  21999.00  21126.05   \n",
              "1             6       1        11       1    400.50    401.80    394.10   \n",
              "2             7       2         9       1   1997.10   2004.05   1894.50   \n",
              "3             1       3         1       1   2260.35   2311.50   2260.35   \n",
              "4             8       4        11       1  18700.40  19200.00  18605.00   \n",
              "\n",
              "   Previous Close  Last Traded Price  Change  Percentage Change  Share Volume  \\\n",
              "0        21854.05           21575.00 -279.05              -1.28          4159   \n",
              "1          403.85             400.00   -3.85              -0.95         31782   \n",
              "2         2015.45            1943.15  -72.30              -3.59        150704   \n",
              "3         2300.90            2280.00  -20.90              -0.91         97053   \n",
              "4        18760.40           19199.80  439.40               2.34         12396   \n",
              "\n",
              "   Value (Indian Rupee)  52 Week High  52 Week Low  365 Day Percentage Change  \\\n",
              "0          8.965357e+07      27800.00     17273.00                     -10.18   \n",
              "1          1.262731e+07        749.75       378.00                     -42.92   \n",
              "2          2.907728e+08       3340.00      1815.00                     -25.69   \n",
              "3          2.210935e+08       2487.85      1618.05                      27.25   \n",
              "4          2.346770e+08      23934.45     15514.00                      11.61   \n",
              "\n",
              "   30 Day Percentage Change  \n",
              "0                      8.22  \n",
              "1                     -5.10  \n",
              "2                     -9.39  \n",
              "3                     -5.21  \n",
              "4                      5.84  "
            ],
            "text/html": [
              "\n",
              "  <div id=\"df-cb4a96fb-989e-4e89-a571-1d5a50f7fe8b\" class=\"colab-df-container\">\n",
              "    <div>\n",
              "<style scoped>\n",
              "    .dataframe tbody tr th:only-of-type {\n",
              "        vertical-align: middle;\n",
              "    }\n",
              "\n",
              "    .dataframe tbody tr th {\n",
              "        vertical-align: top;\n",
              "    }\n",
              "\n",
              "    .dataframe thead th {\n",
              "        text-align: right;\n",
              "    }\n",
              "</style>\n",
              "<table border=\"1\" class=\"dataframe\">\n",
              "  <thead>\n",
              "    <tr style=\"text-align: right;\">\n",
              "      <th></th>\n",
              "      <th>Company Name</th>\n",
              "      <th>Symbol</th>\n",
              "      <th>Industry</th>\n",
              "      <th>Series</th>\n",
              "      <th>Open</th>\n",
              "      <th>High</th>\n",
              "      <th>Low</th>\n",
              "      <th>Previous Close</th>\n",
              "      <th>Last Traded Price</th>\n",
              "      <th>Change</th>\n",
              "      <th>Percentage Change</th>\n",
              "      <th>Share Volume</th>\n",
              "      <th>Value (Indian Rupee)</th>\n",
              "      <th>52 Week High</th>\n",
              "      <th>52 Week Low</th>\n",
              "      <th>365 Day Percentage Change</th>\n",
              "      <th>30 Day Percentage Change</th>\n",
              "    </tr>\n",
              "  </thead>\n",
              "  <tbody>\n",
              "    <tr>\n",
              "      <th>0</th>\n",
              "      <td>0</td>\n",
              "      <td>0</td>\n",
              "      <td>7</td>\n",
              "      <td>1</td>\n",
              "      <td>21950.00</td>\n",
              "      <td>21999.00</td>\n",
              "      <td>21126.05</td>\n",
              "      <td>21854.05</td>\n",
              "      <td>21575.00</td>\n",
              "      <td>-279.05</td>\n",
              "      <td>-1.28</td>\n",
              "      <td>4159</td>\n",
              "      <td>8.965357e+07</td>\n",
              "      <td>27800.00</td>\n",
              "      <td>17273.00</td>\n",
              "      <td>-10.18</td>\n",
              "      <td>8.22</td>\n",
              "    </tr>\n",
              "    <tr>\n",
              "      <th>1</th>\n",
              "      <td>6</td>\n",
              "      <td>1</td>\n",
              "      <td>11</td>\n",
              "      <td>1</td>\n",
              "      <td>400.50</td>\n",
              "      <td>401.80</td>\n",
              "      <td>394.10</td>\n",
              "      <td>403.85</td>\n",
              "      <td>400.00</td>\n",
              "      <td>-3.85</td>\n",
              "      <td>-0.95</td>\n",
              "      <td>31782</td>\n",
              "      <td>1.262731e+07</td>\n",
              "      <td>749.75</td>\n",
              "      <td>378.00</td>\n",
              "      <td>-42.92</td>\n",
              "      <td>-5.10</td>\n",
              "    </tr>\n",
              "    <tr>\n",
              "      <th>2</th>\n",
              "      <td>7</td>\n",
              "      <td>2</td>\n",
              "      <td>9</td>\n",
              "      <td>1</td>\n",
              "      <td>1997.10</td>\n",
              "      <td>2004.05</td>\n",
              "      <td>1894.50</td>\n",
              "      <td>2015.45</td>\n",
              "      <td>1943.15</td>\n",
              "      <td>-72.30</td>\n",
              "      <td>-3.59</td>\n",
              "      <td>150704</td>\n",
              "      <td>2.907728e+08</td>\n",
              "      <td>3340.00</td>\n",
              "      <td>1815.00</td>\n",
              "      <td>-25.69</td>\n",
              "      <td>-9.39</td>\n",
              "    </tr>\n",
              "    <tr>\n",
              "      <th>3</th>\n",
              "      <td>1</td>\n",
              "      <td>3</td>\n",
              "      <td>1</td>\n",
              "      <td>1</td>\n",
              "      <td>2260.35</td>\n",
              "      <td>2311.50</td>\n",
              "      <td>2260.35</td>\n",
              "      <td>2300.90</td>\n",
              "      <td>2280.00</td>\n",
              "      <td>-20.90</td>\n",
              "      <td>-0.91</td>\n",
              "      <td>97053</td>\n",
              "      <td>2.210935e+08</td>\n",
              "      <td>2487.85</td>\n",
              "      <td>1618.05</td>\n",
              "      <td>27.25</td>\n",
              "      <td>-5.21</td>\n",
              "    </tr>\n",
              "    <tr>\n",
              "      <th>4</th>\n",
              "      <td>8</td>\n",
              "      <td>4</td>\n",
              "      <td>11</td>\n",
              "      <td>1</td>\n",
              "      <td>18700.40</td>\n",
              "      <td>19200.00</td>\n",
              "      <td>18605.00</td>\n",
              "      <td>18760.40</td>\n",
              "      <td>19199.80</td>\n",
              "      <td>439.40</td>\n",
              "      <td>2.34</td>\n",
              "      <td>12396</td>\n",
              "      <td>2.346770e+08</td>\n",
              "      <td>23934.45</td>\n",
              "      <td>15514.00</td>\n",
              "      <td>11.61</td>\n",
              "      <td>5.84</td>\n",
              "    </tr>\n",
              "  </tbody>\n",
              "</table>\n",
              "</div>\n",
              "    <div class=\"colab-df-buttons\">\n",
              "\n",
              "  <div class=\"colab-df-container\">\n",
              "    <button class=\"colab-df-convert\" onclick=\"convertToInteractive('df-cb4a96fb-989e-4e89-a571-1d5a50f7fe8b')\"\n",
              "            title=\"Convert this dataframe to an interactive table.\"\n",
              "            style=\"display:none;\">\n",
              "\n",
              "  <svg xmlns=\"http://www.w3.org/2000/svg\" height=\"24px\" viewBox=\"0 -960 960 960\">\n",
              "    <path d=\"M120-120v-720h720v720H120Zm60-500h600v-160H180v160Zm220 220h160v-160H400v160Zm0 220h160v-160H400v160ZM180-400h160v-160H180v160Zm440 0h160v-160H620v160ZM180-180h160v-160H180v160Zm440 0h160v-160H620v160Z\"/>\n",
              "  </svg>\n",
              "    </button>\n",
              "\n",
              "  <style>\n",
              "    .colab-df-container {\n",
              "      display:flex;\n",
              "      gap: 12px;\n",
              "    }\n",
              "\n",
              "    .colab-df-convert {\n",
              "      background-color: #E8F0FE;\n",
              "      border: none;\n",
              "      border-radius: 50%;\n",
              "      cursor: pointer;\n",
              "      display: none;\n",
              "      fill: #1967D2;\n",
              "      height: 32px;\n",
              "      padding: 0 0 0 0;\n",
              "      width: 32px;\n",
              "    }\n",
              "\n",
              "    .colab-df-convert:hover {\n",
              "      background-color: #E2EBFA;\n",
              "      box-shadow: 0px 1px 2px rgba(60, 64, 67, 0.3), 0px 1px 3px 1px rgba(60, 64, 67, 0.15);\n",
              "      fill: #174EA6;\n",
              "    }\n",
              "\n",
              "    .colab-df-buttons div {\n",
              "      margin-bottom: 4px;\n",
              "    }\n",
              "\n",
              "    [theme=dark] .colab-df-convert {\n",
              "      background-color: #3B4455;\n",
              "      fill: #D2E3FC;\n",
              "    }\n",
              "\n",
              "    [theme=dark] .colab-df-convert:hover {\n",
              "      background-color: #434B5C;\n",
              "      box-shadow: 0px 1px 3px 1px rgba(0, 0, 0, 0.15);\n",
              "      filter: drop-shadow(0px 1px 2px rgba(0, 0, 0, 0.3));\n",
              "      fill: #FFFFFF;\n",
              "    }\n",
              "  </style>\n",
              "\n",
              "    <script>\n",
              "      const buttonEl =\n",
              "        document.querySelector('#df-cb4a96fb-989e-4e89-a571-1d5a50f7fe8b button.colab-df-convert');\n",
              "      buttonEl.style.display =\n",
              "        google.colab.kernel.accessAllowed ? 'block' : 'none';\n",
              "\n",
              "      async function convertToInteractive(key) {\n",
              "        const element = document.querySelector('#df-cb4a96fb-989e-4e89-a571-1d5a50f7fe8b');\n",
              "        const dataTable =\n",
              "          await google.colab.kernel.invokeFunction('convertToInteractive',\n",
              "                                                    [key], {});\n",
              "        if (!dataTable) return;\n",
              "\n",
              "        const docLinkHtml = 'Like what you see? Visit the ' +\n",
              "          '<a target=\"_blank\" href=https://colab.research.google.com/notebooks/data_table.ipynb>data table notebook</a>'\n",
              "          + ' to learn more about interactive tables.';\n",
              "        element.innerHTML = '';\n",
              "        dataTable['output_type'] = 'display_data';\n",
              "        await google.colab.output.renderOutput(dataTable, element);\n",
              "        const docLink = document.createElement('div');\n",
              "        docLink.innerHTML = docLinkHtml;\n",
              "        element.appendChild(docLink);\n",
              "      }\n",
              "    </script>\n",
              "  </div>\n",
              "\n",
              "\n",
              "<div id=\"df-13a5f10e-4b16-47f5-be80-d75f163a6808\">\n",
              "  <button class=\"colab-df-quickchart\" onclick=\"quickchart('df-13a5f10e-4b16-47f5-be80-d75f163a6808')\"\n",
              "            title=\"Suggest charts\"\n",
              "            style=\"display:none;\">\n",
              "\n",
              "<svg xmlns=\"http://www.w3.org/2000/svg\" height=\"24px\"viewBox=\"0 0 24 24\"\n",
              "     width=\"24px\">\n",
              "    <g>\n",
              "        <path d=\"M19 3H5c-1.1 0-2 .9-2 2v14c0 1.1.9 2 2 2h14c1.1 0 2-.9 2-2V5c0-1.1-.9-2-2-2zM9 17H7v-7h2v7zm4 0h-2V7h2v10zm4 0h-2v-4h2v4z\"/>\n",
              "    </g>\n",
              "</svg>\n",
              "  </button>\n",
              "\n",
              "<style>\n",
              "  .colab-df-quickchart {\n",
              "      --bg-color: #E8F0FE;\n",
              "      --fill-color: #1967D2;\n",
              "      --hover-bg-color: #E2EBFA;\n",
              "      --hover-fill-color: #174EA6;\n",
              "      --disabled-fill-color: #AAA;\n",
              "      --disabled-bg-color: #DDD;\n",
              "  }\n",
              "\n",
              "  [theme=dark] .colab-df-quickchart {\n",
              "      --bg-color: #3B4455;\n",
              "      --fill-color: #D2E3FC;\n",
              "      --hover-bg-color: #434B5C;\n",
              "      --hover-fill-color: #FFFFFF;\n",
              "      --disabled-bg-color: #3B4455;\n",
              "      --disabled-fill-color: #666;\n",
              "  }\n",
              "\n",
              "  .colab-df-quickchart {\n",
              "    background-color: var(--bg-color);\n",
              "    border: none;\n",
              "    border-radius: 50%;\n",
              "    cursor: pointer;\n",
              "    display: none;\n",
              "    fill: var(--fill-color);\n",
              "    height: 32px;\n",
              "    padding: 0;\n",
              "    width: 32px;\n",
              "  }\n",
              "\n",
              "  .colab-df-quickchart:hover {\n",
              "    background-color: var(--hover-bg-color);\n",
              "    box-shadow: 0 1px 2px rgba(60, 64, 67, 0.3), 0 1px 3px 1px rgba(60, 64, 67, 0.15);\n",
              "    fill: var(--button-hover-fill-color);\n",
              "  }\n",
              "\n",
              "  .colab-df-quickchart-complete:disabled,\n",
              "  .colab-df-quickchart-complete:disabled:hover {\n",
              "    background-color: var(--disabled-bg-color);\n",
              "    fill: var(--disabled-fill-color);\n",
              "    box-shadow: none;\n",
              "  }\n",
              "\n",
              "  .colab-df-spinner {\n",
              "    border: 2px solid var(--fill-color);\n",
              "    border-color: transparent;\n",
              "    border-bottom-color: var(--fill-color);\n",
              "    animation:\n",
              "      spin 1s steps(1) infinite;\n",
              "  }\n",
              "\n",
              "  @keyframes spin {\n",
              "    0% {\n",
              "      border-color: transparent;\n",
              "      border-bottom-color: var(--fill-color);\n",
              "      border-left-color: var(--fill-color);\n",
              "    }\n",
              "    20% {\n",
              "      border-color: transparent;\n",
              "      border-left-color: var(--fill-color);\n",
              "      border-top-color: var(--fill-color);\n",
              "    }\n",
              "    30% {\n",
              "      border-color: transparent;\n",
              "      border-left-color: var(--fill-color);\n",
              "      border-top-color: var(--fill-color);\n",
              "      border-right-color: var(--fill-color);\n",
              "    }\n",
              "    40% {\n",
              "      border-color: transparent;\n",
              "      border-right-color: var(--fill-color);\n",
              "      border-top-color: var(--fill-color);\n",
              "    }\n",
              "    60% {\n",
              "      border-color: transparent;\n",
              "      border-right-color: var(--fill-color);\n",
              "    }\n",
              "    80% {\n",
              "      border-color: transparent;\n",
              "      border-right-color: var(--fill-color);\n",
              "      border-bottom-color: var(--fill-color);\n",
              "    }\n",
              "    90% {\n",
              "      border-color: transparent;\n",
              "      border-bottom-color: var(--fill-color);\n",
              "    }\n",
              "  }\n",
              "</style>\n",
              "\n",
              "  <script>\n",
              "    async function quickchart(key) {\n",
              "      const quickchartButtonEl =\n",
              "        document.querySelector('#' + key + ' button');\n",
              "      quickchartButtonEl.disabled = true;  // To prevent multiple clicks.\n",
              "      quickchartButtonEl.classList.add('colab-df-spinner');\n",
              "      try {\n",
              "        const charts = await google.colab.kernel.invokeFunction(\n",
              "            'suggestCharts', [key], {});\n",
              "      } catch (error) {\n",
              "        console.error('Error during call to suggestCharts:', error);\n",
              "      }\n",
              "      quickchartButtonEl.classList.remove('colab-df-spinner');\n",
              "      quickchartButtonEl.classList.add('colab-df-quickchart-complete');\n",
              "    }\n",
              "    (() => {\n",
              "      let quickchartButtonEl =\n",
              "        document.querySelector('#df-13a5f10e-4b16-47f5-be80-d75f163a6808 button');\n",
              "      quickchartButtonEl.style.display =\n",
              "        google.colab.kernel.accessAllowed ? 'block' : 'none';\n",
              "    })();\n",
              "  </script>\n",
              "</div>\n",
              "\n",
              "    </div>\n",
              "  </div>\n"
            ],
            "application/vnd.google.colaboratory.intrinsic+json": {
              "type": "dataframe",
              "variable_name": "data",
              "summary": "{\n  \"name\": \"data\",\n  \"rows\": 501,\n  \"fields\": [\n    {\n      \"column\": \"Company Name\",\n      \"properties\": {\n        \"dtype\": \"number\",\n        \"std\": 144,\n        \"min\": 0,\n        \"max\": 500,\n        \"num_unique_values\": 501,\n        \"samples\": [\n          204,\n          76,\n          453\n        ],\n        \"semantic_type\": \"\",\n        \"description\": \"\"\n      }\n    },\n    {\n      \"column\": \"Symbol\",\n      \"properties\": {\n        \"dtype\": \"number\",\n        \"std\": 144,\n        \"min\": 0,\n        \"max\": 500,\n        \"num_unique_values\": 501,\n        \"samples\": [\n          362,\n          73,\n          375\n        ],\n        \"semantic_type\": \"\",\n        \"description\": \"\"\n      }\n    },\n    {\n      \"column\": \"Industry\",\n      \"properties\": {\n        \"dtype\": \"number\",\n        \"std\": 5,\n        \"min\": 0,\n        \"max\": 20,\n        \"num_unique_values\": 21,\n        \"samples\": [\n          7,\n          17,\n          5\n        ],\n        \"semantic_type\": \"\",\n        \"description\": \"\"\n      }\n    },\n    {\n      \"column\": \"Series\",\n      \"properties\": {\n        \"dtype\": \"number\",\n        \"std\": 0,\n        \"min\": 0,\n        \"max\": 1,\n        \"num_unique_values\": 2,\n        \"samples\": [\n          0,\n          1\n        ],\n        \"semantic_type\": \"\",\n        \"description\": \"\"\n      }\n    },\n    {\n      \"column\": \"Open\",\n      \"properties\": {\n        \"dtype\": \"number\",\n        \"std\": 4466.627116776684,\n        \"min\": 6.75,\n        \"max\": 70300.0,\n        \"num_unique_values\": 492,\n        \"samples\": [\n          181.65,\n          2727.0\n        ],\n        \"semantic_type\": \"\",\n        \"description\": \"\"\n      }\n    },\n    {\n      \"column\": \"High\",\n      \"properties\": {\n        \"dtype\": \"number\",\n        \"std\": 4576.377691763984,\n        \"min\": 6.95,\n        \"max\": 72500.0,\n        \"num_unique_values\": 495,\n        \"samples\": [\n          157.65,\n          447.45\n        ],\n        \"semantic_type\": \"\",\n        \"description\": \"\"\n      }\n    },\n    {\n      \"column\": \"Low\",\n      \"properties\": {\n        \"dtype\": \"number\",\n        \"std\": 4435.492331876176,\n        \"min\": 6.7,\n        \"max\": 70300.0,\n        \"num_unique_values\": 493,\n        \"samples\": [\n          37.65,\n          436.05\n        ],\n        \"semantic_type\": \"\",\n        \"description\": \"\"\n      }\n    },\n    {\n      \"column\": \"Previous Close\",\n      \"properties\": {\n        \"dtype\": \"number\",\n        \"std\": 4477.209376222824,\n        \"min\": 6.85,\n        \"max\": 70800.9,\n        \"num_unique_values\": 495,\n        \"samples\": [\n          156.35,\n          3466.4\n        ],\n        \"semantic_type\": \"\",\n        \"description\": \"\"\n      }\n    },\n    {\n      \"column\": \"Last Traded Price\",\n      \"properties\": {\n        \"dtype\": \"number\",\n        \"std\": 4532.004734024011,\n        \"min\": 6.8,\n        \"max\": 71900.0,\n        \"num_unique_values\": 493,\n        \"samples\": [\n          460.6,\n          443.5\n        ],\n        \"semantic_type\": \"\",\n        \"description\": \"\"\n      }\n    },\n    {\n      \"column\": \"Change\",\n      \"properties\": {\n        \"dtype\": \"number\",\n        \"std\": 86.46143250753494,\n        \"min\": -543.65,\n        \"max\": 1099.1,\n        \"num_unique_values\": 372,\n        \"samples\": [\n          -0.95,\n          -1.4\n        ],\n        \"semantic_type\": \"\",\n        \"description\": \"\"\n      }\n    },\n    {\n      \"column\": \"Percentage Change\",\n      \"properties\": {\n        \"dtype\": \"number\",\n        \"std\": 2.139285725578201,\n        \"min\": -14.83,\n        \"max\": 6.5,\n        \"num_unique_values\": 354,\n        \"samples\": [\n          -0.53,\n          1.76\n        ],\n        \"semantic_type\": \"\",\n        \"description\": \"\"\n      }\n    },\n    {\n      \"column\": \"Share Volume\",\n      \"properties\": {\n        \"dtype\": \"number\",\n        \"std\": 9407020,\n        \"min\": 1507,\n        \"max\": 125788305,\n        \"num_unique_values\": 501,\n        \"samples\": [\n          17764,\n          140806\n        ],\n        \"semantic_type\": \"\",\n        \"description\": \"\"\n      }\n    },\n    {\n      \"column\": \"Value (Indian Rupee)\",\n      \"properties\": {\n        \"dtype\": \"number\",\n        \"std\": 4335973172.542536,\n        \"min\": 2587222.8,\n        \"max\": 92119871798.85,\n        \"num_unique_values\": 501,\n        \"samples\": [\n          55873997.4,\n          62332000.08\n        ],\n        \"semantic_type\": \"\",\n        \"description\": \"\"\n      }\n    },\n    {\n      \"column\": \"52 Week High\",\n      \"properties\": {\n        \"dtype\": \"number\",\n        \"std\": 5728.930152051845,\n        \"min\": 13.1,\n        \"max\": 87550.0,\n        \"num_unique_values\": 497,\n        \"samples\": [\n          2880.0,\n          554.7\n        ],\n        \"semantic_type\": \"\",\n        \"description\": \"\"\n      }\n    },\n    {\n      \"column\": \"52 Week Low\",\n      \"properties\": {\n        \"dtype\": \"number\",\n        \"std\": 3850.529645811958,\n        \"min\": 4.55,\n        \"max\": 63000.0,\n        \"num_unique_values\": 494,\n        \"samples\": [\n          16.3,\n          268.7\n        ],\n        \"semantic_type\": \"\",\n        \"description\": \"\"\n      }\n    },\n    {\n      \"column\": \"365 Day Percentage Change\",\n      \"properties\": {\n        \"dtype\": \"number\",\n        \"std\": 31.93427302479081,\n        \"min\": -91.14,\n        \"max\": 138.9,\n        \"num_unique_values\": 441,\n        \"samples\": [\n          29.95,\n          -12.61\n        ],\n        \"semantic_type\": \"\",\n        \"description\": \"\"\n      }\n    },\n    {\n      \"column\": \"30 Day Percentage Change\",\n      \"properties\": {\n        \"dtype\": \"number\",\n        \"std\": 8.840512132510211,\n        \"min\": -52.72,\n        \"max\": 20.85,\n        \"num_unique_values\": 458,\n        \"samples\": [\n          -8.61,\n          -1.4\n        ],\n        \"semantic_type\": \"\",\n        \"description\": \"\"\n      }\n    }\n  ]\n}"
            }
          },
          "metadata": {},
          "execution_count": 307
        }
      ]
    },
    {
      "cell_type": "markdown",
      "source": [
        "# Regression\n",
        "\n"
      ],
      "metadata": {
        "id": "fO_5Or-66Xvr"
      }
    },
    {
      "cell_type": "code",
      "source": [
        "X = data[[\"Open\",\"High\",\"Low\",\"Previous Close\",\"Change\",\"Percentage Change\",\"Share Volume\",\"Value (Indian Rupee)\",\"52 Week High\",\"52 Week Low\",\"365 Day Percentage Change\",\"30 Day Percentage Change\"]]\n",
        "y = data[\"Last Traded Price\"]\n",
        "X_train, X_test, y_train, y_test = train_test_split(X, y, test_size=0.1, random_state=42)\n",
        "model = LinearRegression()\n",
        "model.fit(X_train,y_train)\n",
        "y_pred = model.predict(X_test)\n",
        "rmse = np.sqrt(mean_squared_error(y_test, y_pred))\n",
        "mae = mean_absolute_error(y_test, y_pred)\n",
        "l_reg_rmse = rmse\n",
        "l_reg_mae = mae\n",
        "score = model.score(X_test,y_test)\n",
        "print(f\"RMSE: {rmse}\\nMAE: {mae}\\nScore: {score}\")"
      ],
      "metadata": {
        "id": "wxTiq5_mAvEn",
        "colab": {
          "base_uri": "https://localhost:8080/"
        },
        "outputId": "a74af975-5370-4253-f33f-fbcc4807d77e"
      },
      "execution_count": 308,
      "outputs": [
        {
          "output_type": "stream",
          "name": "stdout",
          "text": [
            "RMSE: 0.09268451536950453\n",
            "MAE: 0.07925521026878043\n",
            "Score: 0.9999999992009633\n"
          ]
        }
      ]
    },
    {
      "cell_type": "code",
      "source": [
        "plt.figure(figsize=(10, 6))\n",
        "plt.scatter(y_test, y_pred, alpha=0.7,color='r', edgecolors='w', linewidth=0.5)\n",
        "plt.plot([y_test.min(), y_test.max()], [y_test.min(), y_test.max()], 'k--', lw=2)\n",
        "plt.xlabel('Actual Values')\n",
        "plt.ylabel('Predicted Values')\n",
        "plt.title('Predicted vs. Actual Values')\n",
        "plt.show()"
      ],
      "metadata": {
        "colab": {
          "base_uri": "https://localhost:8080/",
          "height": 564
        },
        "id": "4LplgzTedvsL",
        "outputId": "deeb432f-67e4-447c-e20b-de8f30a8ef7f"
      },
      "execution_count": 309,
      "outputs": [
        {
          "output_type": "display_data",
          "data": {
            "text/plain": [
              "<Figure size 1000x600 with 1 Axes>"
            ],
            "image/png": "[encoded data removed]"
          },
          "metadata": {}
        }
      ]
    },
    {
      "cell_type": "markdown",
      "source": [
        "Convert Percentage Change to binary target Percentage Change Binary"
      ],
      "metadata": {
        "id": "AdMxaloa8o8n"
      }
    },
    {
      "cell_type": "code",
      "source": [
        "data['Percentage Change Binary'] = (data['Percentage Change'] > 0).astype(int)\n",
        "features = data[['Open', 'High', 'Low', 'Previous Close', 'Change', 'Share Volume', 'Value (Indian Rupee)', '52 Week High', '52 Week Low', '365 Day Percentage Change', '30 Day Percentage Change']]\n",
        "target = data['Percentage Change Binary']\n"
      ],
      "metadata": {
        "id": "VZHlaUxyNpAm"
      },
      "execution_count": 310,
      "outputs": []
    },
    {
      "cell_type": "markdown",
      "source": [
        "# SVM\n",
        "SVM model to classify the target"
      ],
      "metadata": {
        "id": "znkcg5wn8zT7"
      }
    },
    {
      "cell_type": "code",
      "source": [
        "X_train, X_test, y_train, y_test = train_test_split(features, target, test_size=0.2, random_state=42)\n",
        "scaler = StandardScaler()\n",
        "\n",
        "X_train_scaled = scaler.fit_transform(X_train)\n",
        "X_test_scaled = scaler.transform(X_test)\n",
        "\n",
        "svm_model = SVC(kernel='linear', class_weight='balanced', random_state=42)\n",
        "svm_model.fit(X_train_scaled, y_train)\n",
        "\n",
        "y_pred_svm = svm_model.predict(X_test_scaled)\n",
        "accuracy_svm = accuracy_score(y_test, y_pred_svm)\n",
        "precision_svm = precision_score(y_test, y_pred_svm)\n",
        "recall_svm = recall_score(y_test, y_pred_svm)\n",
        "f1_svm = f1_score(y_test, y_pred_svm)\n",
        "\n",
        "print(f\"SVM Accuracy: {accuracy_svm}\")\n",
        "print(f\"SVM Precision: {precision_svm}\")\n",
        "print(f\"SVM Recall: {recall_svm}\")\n",
        "print(f\"SVM F1 Score: {f1_svm}\")"
      ],
      "metadata": {
        "colab": {
          "base_uri": "https://localhost:8080/"
        },
        "id": "IJd4FXLSIXK-",
        "outputId": "e1b0faad-8d3c-4b10-a376-fa87ede0e675"
      },
      "execution_count": 311,
      "outputs": [
        {
          "output_type": "stream",
          "name": "stdout",
          "text": [
            "SVM Accuracy: 0.9108910891089109\n",
            "SVM Precision: 0.8620689655172413\n",
            "SVM Recall: 0.9803921568627451\n",
            "SVM F1 Score: 0.9174311926605505\n"
          ]
        }
      ]
    },
    {
      "cell_type": "code",
      "source": [
        "import seaborn as sns\n",
        "from sklearn.metrics import confusion_matrix\n",
        "import matplotlib.pyplot as plt\n",
        "\n",
        "cm_svm = confusion_matrix(y_test, y_pred_svm)\n",
        "\n",
        "true_neg, false_pos, false_neg, true_pos = cm_svm.ravel()\n",
        "formatted_cm = [[true_pos, false_neg], [false_pos, true_neg]]\n",
        "\n",
        "plt.figure(figsize=(8, 6))\n",
        "sns.heatmap(formatted_cm, annot=True, fmt='d', cmap='Blues', cbar=False,\n",
        "            xticklabels=['Predicted Class 1', 'Predicted Class 0'],\n",
        "            yticklabels=['True Class 1', 'True Class 0'])\n",
        "plt.xlabel('Predicted Label')\n",
        "plt.ylabel('True Label')\n",
        "plt.title('SVM Confusion Matrix')\n",
        "plt.show()"
      ],
      "metadata": {
        "colab": {
          "base_uri": "https://localhost:8080/",
          "height": 564
        },
        "id": "Z0lf8x_4kNRv",
        "outputId": "2dfe05ec-2baa-4836-dcc8-620e876e0441"
      },
      "execution_count": 312,
      "outputs": [
        {
          "output_type": "display_data",
          "data": {
            "text/plain": [
              "<Figure size 800x600 with 1 Axes>"
            ],
            "image/png": "[encoded data removed]"
          },
          "metadata": {}
        }
      ]
    },
    {
      "cell_type": "markdown",
      "source": [
        "# LSVM\n",
        "LSVM model to classify the target"
      ],
      "metadata": {
        "id": "SDly3wiB8-QN"
      }
    },
    {
      "cell_type": "code",
      "source": [
        "lsvm_model = LinearSVC(dual=False,max_iter=10000, class_weight='balanced', random_state=42)\n",
        "lsvm_model.fit(X_train_scaled, y_train)\n",
        "\n",
        "y_pred_lsvm = lsvm_model.predict(X_test_scaled)\n",
        "accuracy_lsvm = accuracy_score(y_test, y_pred_lsvm)\n",
        "precision_lsvm = precision_score(y_test, y_pred_lsvm)\n",
        "recall_lsvm = recall_score(y_test, y_pred_lsvm)\n",
        "f1_lsvm = f1_score(y_test, y_pred_lsvm)\n",
        "\n",
        "print(f\"LSVM Accuracy: {accuracy_lsvm}\")\n",
        "print(f\"LSVM Precision: {precision_lsvm}\")\n",
        "print(f\"LSVM Recall: {recall_lsvm}\")\n",
        "print(f\"LSVM F1 Score: {f1_lsvm}\")\n",
        "\n",
        "lsvm_acc = accuracy_lsvm\n",
        "lsvm_pre = precision_lsvm\n",
        "lsvm_rec = recall_lsvm\n",
        "lsvm_f1 = f1_lsvm"
      ],
      "metadata": {
        "colab": {
          "base_uri": "https://localhost:8080/"
        },
        "id": "EDB5wRSOdJ1a",
        "outputId": "74728991-27ff-4cbf-88c5-3e1ea6d5fed6"
      },
      "execution_count": 313,
      "outputs": [
        {
          "output_type": "stream",
          "name": "stdout",
          "text": [
            "LSVM Accuracy: 0.9405940594059405\n",
            "LSVM Precision: 0.9090909090909091\n",
            "LSVM Recall: 0.9803921568627451\n",
            "LSVM F1 Score: 0.9433962264150944\n"
          ]
        }
      ]
    },
    {
      "cell_type": "code",
      "source": [
        "import seaborn as sns\n",
        "from sklearn.metrics import confusion_matrix\n",
        "import matplotlib.pyplot as plt\n",
        "\n",
        "cm_lsvm = confusion_matrix(y_test, y_pred_lsvm)\n",
        "\n",
        "true_neg, false_pos, false_neg, true_pos = cm_lsvm.ravel()\n",
        "\n",
        "formatted_cm = [[true_pos, false_neg], [false_pos, true_neg]]\n",
        "\n",
        "plt.figure(figsize=(8, 6))\n",
        "sns.heatmap(formatted_cm, annot=True, fmt='d', cmap='Blues', cbar=False,\n",
        "            xticklabels=['Predicted Class 1', 'Predicted Class 0'],\n",
        "            yticklabels=['True Class 1', 'True Class 0'])\n",
        "plt.xlabel('Predicted Label')\n",
        "plt.ylabel('True Label')\n",
        "plt.title('LSVM Confusion Matrix')\n",
        "plt.show()\n"
      ],
      "metadata": {
        "colab": {
          "base_uri": "https://localhost:8080/",
          "height": 564
        },
        "id": "IHaT3M9Dl8sZ",
        "outputId": "24acfbcb-62e9-4bff-91aa-82564deacd51"
      },
      "execution_count": 314,
      "outputs": [
        {
          "output_type": "display_data",
          "data": {
            "text/plain": [
              "<Figure size 800x600 with 1 Axes>"
            ],
            "image/png": "[encoded data removed]"
          },
          "metadata": {}
        }
      ]
    },
    {
      "cell_type": "markdown",
      "source": [
        "# Random Forest Regressor\n",
        "Regressor model for predicting the Last Traded Price"
      ],
      "metadata": {
        "id": "EEZWX4X_9EzJ"
      }
    },
    {
      "cell_type": "code",
      "source": [
        "X = data.drop(columns=['Last Traded Price'])\n",
        "y = data['Last Traded Price']\n",
        "\n",
        "categorical_features = ['Company Name', 'Symbol', 'Industry', 'Series']\n",
        "numerical_features = [col for col in X.columns if col not in categorical_features]\n",
        "\n",
        "preprocessor = ColumnTransformer(\n",
        "    transformers=[\n",
        "        ('cat', OneHotEncoder(handle_unknown='ignore'), categorical_features),\n",
        "        ('num', StandardScaler(), numerical_features)])\n",
        "\n",
        "X_train, X_test, y_train, y_test = train_test_split(X, y, test_size=0.2, random_state=42)\n",
        "\n",
        "pipeline = Pipeline(steps=[\n",
        "    ('preprocessor', preprocessor),\n",
        "    ('model', RandomForestRegressor(n_estimators=100, random_state=42))\n",
        "])\n",
        "\n",
        "pipeline.fit(X_train, y_train)\n",
        "\n",
        "y_pred = pipeline.predict(X_test)\n",
        "\n",
        "rmse = np.sqrt(mean_squared_error(y_test, y_pred))\n",
        "mae = mean_absolute_error(y_test, y_pred)\n",
        "score = pipeline.score(X_test,y_test)\n",
        "print(f\"Random Forest Regression RMSE: {rmse}\")\n",
        "print(f\"Random Forest Regression MAE: {mae}\")\n",
        "print(f\"Random Forest Regression Score: {score}\")\n",
        "\n",
        "rf_reg_rmse = rmse\n",
        "rf_reg_mae = mae"
      ],
      "metadata": {
        "colab": {
          "base_uri": "https://localhost:8080/"
        },
        "id": "KnG228Trd-Dm",
        "outputId": "00fa31d1-e0b7-4121-f3fc-335646deb9b2"
      },
      "execution_count": 315,
      "outputs": [
        {
          "output_type": "stream",
          "name": "stdout",
          "text": [
            "Random Forest Regression RMSE: 330.6154274084868\n",
            "Random Forest Regression MAE: 70.29704455445544\n",
            "Random Forest Regression Score: 0.9894118719938261\n"
          ]
        }
      ]
    },
    {
      "cell_type": "code",
      "source": [
        "plt.figure(figsize=(10, 6))\n",
        "plt.scatter(y_test, y_pred, alpha=0.5,color='r', edgecolors='w', linewidth=0.5)\n",
        "plt.plot([y_test.min(), y_test.max()], [y_test.min(), y_test.max()], 'k--', lw=2)\n",
        "plt.xlabel('Actual Values')\n",
        "plt.ylabel('Predicted Values')\n",
        "plt.title('Actual vs Predicted Values for Random Forest Regressor')\n",
        "plt.show()\n"
      ],
      "metadata": {
        "colab": {
          "base_uri": "https://localhost:8080/",
          "height": 564
        },
        "id": "a-ESwwI_mwBZ",
        "outputId": "f63cd1ec-3c6c-4eb8-b722-313509b78ce8"
      },
      "execution_count": 316,
      "outputs": [
        {
          "output_type": "display_data",
          "data": {
            "text/plain": [
              "<Figure size 1000x600 with 1 Axes>"
            ],
            "image/png": "[encoded data removed]"
          },
          "metadata": {}
        }
      ]
    },
    {
      "cell_type": "markdown",
      "source": [
        "# Random Forest Classifier\n",
        "Classifier model to predict the Percentage Change"
      ],
      "metadata": {
        "id": "kRuxLdyZ9OyA"
      }
    },
    {
      "cell_type": "code",
      "source": [
        "\n",
        "X = data.drop(columns=['Percentage Change'])\n",
        "y = (data['Percentage Change'] > 0).astype(int)\n",
        "\n",
        "categorical_features = ['Company Name', 'Symbol', 'Industry', 'Series']\n",
        "numerical_features = [col for col in X.columns if col not in categorical_features]\n",
        "\n",
        "preprocessor = ColumnTransformer(\n",
        "    transformers=[\n",
        "        ('cat', OneHotEncoder(handle_unknown='ignore'), categorical_features),\n",
        "        ('num', StandardScaler(), numerical_features)])\n",
        "\n",
        "X_train, X_test, y_train, y_test = train_test_split(X, y, test_size=0.2, random_state=42)\n",
        "\n",
        "pipeline = Pipeline(steps=[\n",
        "    ('preprocessor', preprocessor),\n",
        "    ('model', RandomForestClassifier(n_estimators=100, random_state=42))\n",
        "])\n",
        "\n",
        "pipeline.fit(X_train, y_train)\n",
        "\n",
        "y_pred = pipeline.predict(X_test)\n",
        "\n",
        "accuracy = accuracy_score(y_test, y_pred)\n",
        "precision = precision_score(y_test, y_pred)\n",
        "recall = recall_score(y_test, y_pred)\n",
        "f1 = f1_score(y_test, y_pred)\n",
        "\n",
        "print(f\"Random Forest Classification Accuracy: {accuracy}\")\n",
        "print(f\"Random Forest Classification Precision: {precision}\")\n",
        "print(f\"Random Forest Classification Recall: {recall}\")\n",
        "print(f\"Random Forest Classification F1 Score: {f1}\")\n",
        "\n",
        "rf_class_acc = accuracy\n",
        "rf_class_pre = precision\n",
        "rf_class_rec = recall\n",
        "rf_class_f1 = f1"
      ],
      "metadata": {
        "colab": {
          "base_uri": "https://localhost:8080/"
        },
        "id": "zrarnxIIfYR8",
        "outputId": "330df556-41ad-4df8-d2bc-56b5b13748c9"
      },
      "execution_count": 317,
      "outputs": [
        {
          "output_type": "stream",
          "name": "stdout",
          "text": [
            "Random Forest Classification Accuracy: 0.9900990099009901\n",
            "Random Forest Classification Precision: 0.9807692307692307\n",
            "Random Forest Classification Recall: 1.0\n",
            "Random Forest Classification F1 Score: 0.9902912621359222\n"
          ]
        }
      ]
    },
    {
      "cell_type": "code",
      "source": [
        "import seaborn as sns\n",
        "from sklearn.metrics import confusion_matrix\n",
        "import matplotlib.pyplot as plt\n",
        "\n",
        "cm_rf = confusion_matrix(y_test, y_pred)\n",
        "\n",
        "true_neg, false_pos, false_neg, true_pos = cm_rf.ravel()\n",
        "\n",
        "formatted_cm = [[true_pos, false_neg], [false_pos, true_neg]]\n",
        "\n",
        "plt.figure(figsize=(8, 6))\n",
        "ax = sns.heatmap(formatted_cm, annot=True, fmt='d', cmap='Blues', cbar=False,\n",
        "                 xticklabels=['Predicted Positive', 'Predicted Negative'],\n",
        "                 yticklabels=['Actual Positive', 'Actual Negative'])\n",
        "\n",
        "plt.xlabel('Predicted Label')\n",
        "plt.ylabel('True Label')\n",
        "plt.title('Random Forest Classifier Confusion Matrix')\n",
        "\n",
        "plt.show()\n"
      ],
      "metadata": {
        "colab": {
          "base_uri": "https://localhost:8080/",
          "height": 564
        },
        "id": "O6FKa6p4oaEI",
        "outputId": "b933f2f3-b9ea-4797-f525-630b5907ca9d"
      },
      "execution_count": 318,
      "outputs": [
        {
          "output_type": "display_data",
          "data": {
            "text/plain": [
              "<Figure size 800x600 with 1 Axes>"
            ],
            "image/png": "[encoded data removed]"
          },
          "metadata": {}
        }
      ]
    },
    {
      "cell_type": "markdown",
      "source": [
        "# Comparison\n",
        "Compare Random Forest Regressor with Linear Regression Model.\n",
        "\n",
        "Compare Random Forest Classifier with SVM Model\n"
      ],
      "metadata": {
        "id": "3ax3Ia_xCctV"
      }
    },
    {
      "cell_type": "code",
      "source": [
        "print(\"Regression Model Comparison:\")\n",
        "print(\"===========================\")\n",
        "if rf_reg_rmse < l_reg_rmse:\n",
        "    print(f\"Random Forest Regressor performed better with lower RMSE: {rf_reg_rmse:.4f} compared to Linear Regression RMSE: {l_reg_rmse:.4f}\")\n",
        "else:\n",
        "    print(f\"Linear Regression performed better with lower RMSE: {l_reg_rmse:.4f} compared to Random Forest Regressor RMSE: {rf_reg_rmse:.4f}\")\n",
        "\n",
        "if rf_reg_mae < l_reg_mae:\n",
        "    print(f\"Random Forest Regressor performed better with lower MAE: {rf_reg_mae:.4f} compared to Linear Regression MAE: {l_reg_mae:.4f}\")\n",
        "else:\n",
        "    print(f\"Linear Regression performed better with lower MAE: {l_reg_mae:.4f} compared to Random Forest Regressor MAE: {rf_reg_mae:.4f}\")"
      ],
      "metadata": {
        "id": "c-qVfjX1i14V",
        "colab": {
          "base_uri": "https://localhost:8080/"
        },
        "outputId": "c33b31d1-595c-4200-8d44-595cf591fe61"
      },
      "execution_count": 319,
      "outputs": [
        {
          "output_type": "stream",
          "name": "stdout",
          "text": [
            "Regression Model Comparison:\n",
            "===========================\n",
            "Linear Regression performed better with lower RMSE: 0.0927 compared to Random Forest Regressor RMSE: 330.6154\n",
            "Linear Regression performed better with lower MAE: 0.0793 compared to Random Forest Regressor MAE: 70.2970\n"
          ]
        }
      ]
    },
    {
      "cell_type": "code",
      "source": [
        "X = data[[\"Open\",\"High\",\"Low\",\"Previous Close\",\"Change\",\"Percentage Change\",\"Share Volume\",\"Value (Indian Rupee)\",\"52 Week High\",\"52 Week Low\",\"365 Day Percentage Change\",\"30 Day Percentage Change\"]]\n",
        "y = data[\"Last Traded Price\"]\n",
        "X_train, X_test, y_train, y_test = train_test_split(X, y, test_size=0.1, random_state=42)\n",
        "model = LinearRegression()\n",
        "model.fit(X_train,y_train)\n",
        "y_pred = model.predict(X_test)\n",
        "rmse = np.sqrt(mean_squared_error(y_test, y_pred))\n",
        "mae = mean_absolute_error(y_test, y_pred)\n",
        "l_reg_rmse = rmse\n",
        "l_reg_mae = mae\n",
        "\n",
        "X = data.drop(columns=['Last Traded Price'])\n",
        "y = data['Last Traded Price']\n",
        "\n",
        "categorical_features = ['Company Name', 'Symbol', 'Industry', 'Series']\n",
        "numerical_features = [col for col in X.columns if col not in categorical_features]\n",
        "\n",
        "preprocessor = ColumnTransformer(\n",
        "    transformers=[\n",
        "        ('cat', OneHotEncoder(handle_unknown='ignore'), categorical_features),\n",
        "        ('num', StandardScaler(), numerical_features)])\n",
        "\n",
        "X_train, X_test, y_train, y_test = train_test_split(X, y, test_size=0.2, random_state=42)\n",
        "\n",
        "pipeline = Pipeline(steps=[\n",
        "    ('preprocessor', preprocessor),\n",
        "    ('model', RandomForestRegressor(n_estimators=100, random_state=42))\n",
        "])\n",
        "\n",
        "pipeline.fit(X_train, y_train)\n",
        "\n",
        "y_pred = pipeline.predict(X_test)\n",
        "\n",
        "rmse = np.sqrt(mean_squared_error(y_test, y_pred))\n",
        "mae = mean_absolute_error(y_test, y_pred)\n",
        "score = pipeline.score(X_test,y_test)\n",
        "\n",
        "rf_reg_rmse = rmse\n",
        "rf_reg_mae = mae"
      ],
      "metadata": {
        "id": "hRBe1YomuS52"
      },
      "execution_count": 320,
      "outputs": []
    },
    {
      "cell_type": "code",
      "source": [
        "from sklearn.linear_model import LinearRegression\n",
        "l_reg_model = LinearRegression()\n",
        "l_reg_model.fit(X_train, y_train)\n",
        "y_pred_l_reg = l_reg_model.predict(X_test)\n",
        "\n",
        "from sklearn.ensemble import RandomForestRegressor\n",
        "rf_reg_model = RandomForestRegressor(n_estimators=100, random_state=42)\n",
        "rf_reg_model.fit(X_train, y_train)\n",
        "y_pred_rf_reg = rf_reg_model.predict(X_test)\n",
        "\n",
        "plt.figure(figsize=(10, 8))\n",
        "\n",
        "plt.scatter(y_test, y_pred_l_reg, color='blue', alpha=0.5, label='Linear Regression')\n",
        "\n",
        "plt.scatter(y_test, y_pred_rf_reg, color='green', alpha=0.5, label='Random Forest Regressor')\n",
        "\n",
        "plt.plot([y_test.min(), y_test.max()], [y_test.min(), y_test.max()], color='red', linestyle='--', label='Ideal Line')\n",
        "\n",
        "plt.xlabel('Actual Values')\n",
        "plt.ylabel('Predicted Values')\n",
        "plt.title('Comparison of Linear Regression and Random Forest Regressor')\n",
        "plt.legend()\n",
        "\n",
        "plt.tight_layout()\n",
        "plt.show()\n"
      ],
      "metadata": {
        "colab": {
          "base_uri": "https://localhost:8080/",
          "height": 807
        },
        "id": "hlrha3c4B-YM",
        "outputId": "ce68bd3a-e685-4083-d256-b450d09afae2"
      },
      "execution_count": 321,
      "outputs": [
        {
          "output_type": "display_data",
          "data": {
            "text/plain": [
              "<Figure size 1000x800 with 1 Axes>"
            ],
            "image/png": "[encoded data removed]"
          },
          "metadata": {}
        }
      ]
    },
    {
      "cell_type": "code",
      "source": [],
      "metadata": {
        "id": "GcEmkzfMtVD2"
      },
      "execution_count": 321,
      "outputs": []
    },
    {
      "cell_type": "code",
      "source": [
        "\n",
        "metrics = ['Accuracy', 'Precision', 'Recall', 'F1 Score']\n",
        "rf_class_values = [rf_class_acc, rf_class_pre, rf_class_rec, rf_class_f1]\n",
        "lsvm_values = [lsvm_acc, lsvm_pre, lsvm_rec, lsvm_f1]\n",
        "\n",
        "bar_width = 0.35\n",
        "index = np.arange(len(metrics))\n",
        "\n",
        "fig, ax = plt.subplots(figsize=(12, 8))\n",
        "\n",
        "bars_rf_class = ax.bar(index - bar_width/2, rf_class_values, bar_width, label='Random Forest Classifier', color='skyblue')\n",
        "bars_lsvm = ax.bar(index + bar_width/2, lsvm_values, bar_width, label='SVM', color='salmon')\n",
        "\n",
        "ax.set_xlabel('Metrics')\n",
        "ax.set_ylabel('Values')\n",
        "ax.set_title('Classification Model Comparison')\n",
        "ax.set_xticks(index)\n",
        "ax.set_xticklabels(metrics)\n",
        "ax.legend()\n",
        "\n",
        "for bars in [bars_rf_class, bars_lsvm]:\n",
        "    for bar in bars:\n",
        "        height = bar.get_height()\n",
        "        ax.annotate(f'{height:.4f}',\n",
        "                    xy=(bar.get_x() + bar.get_width() / 2, height),\n",
        "                    xytext=(0, 3),\n",
        "                    textcoords=\"offset points\",\n",
        "                    ha='center', va='bottom')\n",
        "\n",
        "plt.tight_layout()\n",
        "plt.show()\n"
      ],
      "metadata": {
        "colab": {
          "base_uri": "https://localhost:8080/",
          "height": 807
        },
        "id": "KaaxQWTMrKZ-",
        "outputId": "e1e85830-cf11-4018-9496-db73a2365fca"
      },
      "execution_count": 322,
      "outputs": [
        {
          "output_type": "display_data",
          "data": {
            "text/plain": [
              "<Figure size 1200x800 with 1 Axes>"
            ],
            "image/png": "[encoded data removed]"
          },
          "metadata": {}
        }
      ]
    },
    {
      "cell_type": "code",
      "source": [],
      "metadata": {
        "id": "XljuTFSMrWuu"
      },
      "execution_count": 322,
      "outputs": []
    }
  ]
}